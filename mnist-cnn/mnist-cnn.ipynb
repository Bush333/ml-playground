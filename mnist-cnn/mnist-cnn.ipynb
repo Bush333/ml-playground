{
 "cells": [
  {
   "cell_type": "code",
   "execution_count": null,
   "metadata": {
    "collapsed": false
   },
   "outputs": [],
   "source": [
    "from __future__ import print_function\n",
    "\n",
    "import numpy as np\n",
    "\n",
    "import matplotlib.pyplot as plt\n",
    "import matplotlib.gridspec as gridspec\n",
    "# Config the matplotlib backend as plotting inline in IPython\n",
    "%matplotlib inline\n",
    "\n",
    "from keras import backend as K\n",
    "from keras.datasets import mnist\n",
    "from keras.utils import np_utils\n",
    "from keras.models import Sequential\n",
    "from keras.layers.core import Dense, Dropout, Activation, Flatten\n",
    "from keras.layers import Convolution2D, MaxPooling2D"
   ]
  },
  {
   "cell_type": "code",
   "execution_count": null,
   "metadata": {
    "collapsed": true
   },
   "outputs": [],
   "source": [
    "\"\"\" Starting with a random seed ensures the reproducibility of the tests. \"\"\"\n",
    "np.random.seed(1337)"
   ]
  },
  {
   "cell_type": "code",
   "execution_count": null,
   "metadata": {
    "collapsed": true
   },
   "outputs": [],
   "source": [
    "\"\"\" Initialize some variables. \"\"\"\n",
    "no_classes = 10\n",
    "no_epoch = 20\n",
    "batch_size = 128\n",
    "no_filter = 32          # Number of convolutional filters to use\n",
    "pool_size = (2, 2)      # Size of poolig area\n",
    "kernel_size = (3, 3)    # Convolution kernel size"
   ]
  },
  {
   "cell_type": "markdown",
   "metadata": {},
   "source": [
    "The MNIST dataset is provided with Keras. MNIST is a dataset of 60,000 28x28\n",
    "grayscale images of the 10 digits, along with a test set of 10,000 images."
   ]
  },
  {
   "cell_type": "code",
   "execution_count": null,
   "metadata": {
    "collapsed": true
   },
   "outputs": [],
   "source": [
    "(X_train, y_train), (X_test, y_test) = mnist.load_data()"
   ]
  },
  {
   "cell_type": "code",
   "execution_count": null,
   "metadata": {
    "collapsed": false
   },
   "outputs": [],
   "source": [
    "\"\"\" Let's check some of the sample images. \"\"\"\n",
    "fig = plt.figure()\n",
    "gs = gridspec.GridSpec(2, 5)\n",
    "\n",
    "for i in range(10):\n",
    "    idx = np.random.randint(1000)\n",
    "    sample_img = X_train[idx, :, :]\n",
    "    sample_label = y_train[idx]\n",
    "\n",
    "    fig.add_subplot(gs[i])\n",
    "    plt.imshow(sample_img, cmap='gray')\n",
    "    plt.title(sample_label)\n",
    "\n",
    "plt.show()"
   ]
  },
  {
   "cell_type": "code",
   "execution_count": null,
   "metadata": {
    "collapsed": true
   },
   "outputs": [],
   "source": [
    "\"\"\" Width and height of the training images. \"\"\"\n",
    "img_width = X_train.shape[1]\n",
    "img_height = X_train.shape[2]"
   ]
  },
  {
   "cell_type": "markdown",
   "metadata": {},
   "source": [
    "The Convolution2D layers in Keras, are designed to work with 3 dimensions per\n",
    "example. They have 4-dimensional inputs and outputs. This covers colour images\n",
    "(nb_samples, nb_channels, width, height), but more importantly, it covers\n",
    "deeper layers of the network, where each example has become a set of feature\n",
    "maps i.e. (nb_samples, nb_features, width, height).\n",
    "\n",
    "The greyscale image for MNIST digits input would either need a different CNN\n",
    "layer design (or a param to the layer constructor to accept a different shape),\n",
    "or the design could simply use a standard CNN and you must explicitly express\n",
    "the examples as 1-channel images."
   ]
  },
  {
   "cell_type": "code",
   "execution_count": null,
   "metadata": {
    "collapsed": true
   },
   "outputs": [],
   "source": [
    "if K.image_dim_ordering() == 'th':\n",
    "    X_train = X_train.reshape(X_train.shape[0], 1, img_height, img_width)\n",
    "    X_test = X_test.reshape(X_test.shape[0], 1, img_height, img_width)\n",
    "    input_shape = (1, img_height, img_width)\n",
    "else:\n",
    "    X_train = X_train.reshape(X_train.shape[0], img_height, img_width, 1)\n",
    "    X_test = X_test.reshape(X_test.shape[0], img_height, img_width, 1)\n",
    "    input_shape = (img_height, img_width, 1)"
   ]
  },
  {
   "cell_type": "code",
   "execution_count": null,
   "metadata": {
    "collapsed": true
   },
   "outputs": [],
   "source": [
    "\"\"\" Change type and normalize. \"\"\"\n",
    "X_train = X_train.astype('float32')\n",
    "X_test = X_test.astype('float32')\n",
    "\n",
    "X_train /= 255\n",
    "X_test /= 255"
   ]
  },
  {
   "cell_type": "code",
   "execution_count": null,
   "metadata": {
    "collapsed": false
   },
   "outputs": [],
   "source": [
    "print('Input shape: ', X_train.shape)\n",
    "print(X_train.shape[0], 'train samples.')\n",
    "print(X_test.shape[0], 'test samples.')"
   ]
  },
  {
   "cell_type": "code",
   "execution_count": null,
   "metadata": {
    "collapsed": true
   },
   "outputs": [],
   "source": [
    "\"\"\"\n",
    "Convert class vectors to binary class matrices using the 1-hot encoding method.\n",
    "\"\"\"\n",
    "Y_train = np_utils.to_categorical(y_train, no_classes)\n",
    "Y_test = np_utils.to_categorical(y_test, no_classes)"
   ]
  },
  {
   "cell_type": "code",
   "execution_count": null,
   "metadata": {
    "collapsed": false
   },
   "outputs": [],
   "source": [
    "\"\"\" Create a sequential model. \"\"\"\n",
    "model = Sequential()\n",
    "\n",
    "model.add(Convolution2D(no_filter, kernel_size[0], kernel_size[1],\n",
    "                        border_mode='valid', input_shape=input_shape))\n",
    "model.add(Activation('relu'))\n",
    "model.add(Convolution2D(no_filter, kernel_size[0], kernel_size[1]))\n",
    "model.add(Activation('relu'))\n",
    "model.add(MaxPooling2D(pool_size=pool_size))\n",
    "model.add(Dropout(0.25))\n",
    "\n",
    "model.add(Flatten())\n",
    "model.add(Dense(128))\n",
    "model.add(Activation('relu'))\n",
    "model.add(Dropout(0.25))\n",
    "model.add(Dense(no_classes))\n",
    "model.add(Activation('softmax'))\n",
    "\n",
    "\"\"\" Let's look at the summary of the model. \"\"\"\n",
    "model.summary()"
   ]
  },
  {
   "cell_type": "code",
   "execution_count": null,
   "metadata": {
    "collapsed": true
   },
   "outputs": [],
   "source": [
    "model.compile(loss='categorical_crossentropy', optimizer='adadelta', metrics=['accuracy'])"
   ]
  },
  {
   "cell_type": "code",
   "execution_count": null,
   "metadata": {
    "collapsed": false
   },
   "outputs": [],
   "source": [
    "history = model.fit(X_train[0:50000], Y_train[0:50000],\n",
    "                    batch_size=batch_size,\n",
    "                    nb_epoch=no_epoch,\n",
    "                    verbose=1,\n",
    "                    validation_data=(X_train[50000:60000], Y_train[50000:60000]))"
   ]
  },
  {
   "cell_type": "code",
   "execution_count": null,
   "metadata": {
    "collapsed": true
   },
   "outputs": [],
   "source": [
    "fig = plt.figure()\n",
    "gs = gridspec.GridSpec(1, 2)\n",
    "\n",
    "\"\"\" Summarize history for accuracy \"\"\"\n",
    "fig.add_subplot(gs[0])\n",
    "plt.plot(history.history['acc'])\n",
    "plt.plot(history.history['val_acc'])\n",
    "plt.title('model accuracy')\n",
    "plt.ylabel('accuracy')\n",
    "plt.xlabel('epoch')\n",
    "plt.legend(['train', 'validation'], loc='upper left')\n",
    "\n",
    "\"\"\" Summarize history for loss \"\"\"\n",
    "fig.add_subplot(gs[1])\n",
    "plt.plot(history.history['loss'])\n",
    "plt.plot(history.history['val_loss'])\n",
    "plt.title('model loss')\n",
    "plt.ylabel('loss')\n",
    "plt.xlabel('epoch')\n",
    "plt.legend(['train', 'validation'], loc='upper left')\n",
    "\n",
    "plt.show()"
   ]
  },
  {
   "cell_type": "code",
   "execution_count": null,
   "metadata": {
    "collapsed": true
   },
   "outputs": [],
   "source": [
    "\"\"\" Evaluate the trained model \"\"\"\n",
    "score = model.evaluate(X_test, Y_test, verbose=0)\n",
    "\n",
    "print('Test score: ', score[0])\n",
    "print('Test accuracy: ', score[1])"
   ]
  }
 ],
 "metadata": {
  "kernelspec": {
   "display_name": "Python 3",
   "language": "python",
   "name": "python3"
  },
  "language_info": {
   "codemirror_mode": {
    "name": "ipython",
    "version": 3
   },
   "file_extension": ".py",
   "mimetype": "text/x-python",
   "name": "python",
   "nbconvert_exporter": "python",
   "pygments_lexer": "ipython3",
   "version": "3.6.0"
  }
 },
 "nbformat": 4,
 "nbformat_minor": 2
}
